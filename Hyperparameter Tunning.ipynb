{
 "cells": [
  {
   "cell_type": "markdown",
   "metadata": {},
   "source": [
    "### Different ways to do Hyperparameter tunning ML:\n",
    "\n",
    "1. Grid Search CV\n",
    "2. Random Search CV\n",
    "3. Optuna\n",
    "4. HyperOpt"
   ]
  },
  {
   "cell_type": "markdown",
   "metadata": {},
   "source": [
    "References:<br>\n",
    "* https://scikit-learn.org/stable/modules/generated/sklearn.model_selection.RandomizedSearchCV.html\n",
    "* https://www.kdnuggets.com/2020/05/hyperparameter-optimization-machine-learning-models.html\n",
    "* https://www.analyticsvidhya.com/blog/2020/11/hyperparameter-tuning-using-optuna/#:~:text=So%20this%20function%20takes%20a%20trial%20object%20as%20its%20argument.&text=The%20objective%20function%20value%20is,the%20nature%20of%20the%20objective.\n",
    "* https://machinelearningmastery.com/hyperopt-for-automated-machine-learning-with-scikit-learn/\n",
    "* https://github.com/krishnaik06/All-Hyperparamter-Optimization"
   ]
  },
  {
   "cell_type": "code",
   "execution_count": 39,
   "metadata": {},
   "outputs": [],
   "source": [
    "from sklearn.ensemble import RandomForestClassifier\n",
    "from sklearn.model_selection import train_test_split, GridSearchCV, RandomizedSearchCV\n",
    "from sklearn.metrics import accuracy_score, confusion_matrix, roc_curve, roc_auc_score, classification_report\n",
    "import pandas as pd"
   ]
  },
  {
   "cell_type": "code",
   "execution_count": 40,
   "metadata": {},
   "outputs": [
    {
     "data": {
      "text/html": [
       "<div>\n",
       "<style scoped>\n",
       "    .dataframe tbody tr th:only-of-type {\n",
       "        vertical-align: middle;\n",
       "    }\n",
       "\n",
       "    .dataframe tbody tr th {\n",
       "        vertical-align: top;\n",
       "    }\n",
       "\n",
       "    .dataframe thead th {\n",
       "        text-align: right;\n",
       "    }\n",
       "</style>\n",
       "<table border=\"1\" class=\"dataframe\">\n",
       "  <thead>\n",
       "    <tr style=\"text-align: right;\">\n",
       "      <th></th>\n",
       "      <th>fixed acidity</th>\n",
       "      <th>volatile acidity</th>\n",
       "      <th>citric acid</th>\n",
       "      <th>residual sugar</th>\n",
       "      <th>chlorides</th>\n",
       "      <th>free sulfur dioxide</th>\n",
       "      <th>total sulfur dioxide</th>\n",
       "      <th>density</th>\n",
       "      <th>pH</th>\n",
       "      <th>sulphates</th>\n",
       "      <th>alcohol</th>\n",
       "      <th>quality</th>\n",
       "    </tr>\n",
       "  </thead>\n",
       "  <tbody>\n",
       "    <tr>\n",
       "      <th>0</th>\n",
       "      <td>7.4</td>\n",
       "      <td>0.70</td>\n",
       "      <td>0.00</td>\n",
       "      <td>1.9</td>\n",
       "      <td>0.076</td>\n",
       "      <td>11.0</td>\n",
       "      <td>34.0</td>\n",
       "      <td>0.9978</td>\n",
       "      <td>3.51</td>\n",
       "      <td>0.56</td>\n",
       "      <td>9.4</td>\n",
       "      <td>5</td>\n",
       "    </tr>\n",
       "    <tr>\n",
       "      <th>1</th>\n",
       "      <td>7.8</td>\n",
       "      <td>0.88</td>\n",
       "      <td>0.00</td>\n",
       "      <td>2.6</td>\n",
       "      <td>0.098</td>\n",
       "      <td>25.0</td>\n",
       "      <td>67.0</td>\n",
       "      <td>0.9968</td>\n",
       "      <td>3.20</td>\n",
       "      <td>0.68</td>\n",
       "      <td>9.8</td>\n",
       "      <td>5</td>\n",
       "    </tr>\n",
       "    <tr>\n",
       "      <th>2</th>\n",
       "      <td>7.8</td>\n",
       "      <td>0.76</td>\n",
       "      <td>0.04</td>\n",
       "      <td>2.3</td>\n",
       "      <td>0.092</td>\n",
       "      <td>15.0</td>\n",
       "      <td>54.0</td>\n",
       "      <td>0.9970</td>\n",
       "      <td>3.26</td>\n",
       "      <td>0.65</td>\n",
       "      <td>9.8</td>\n",
       "      <td>5</td>\n",
       "    </tr>\n",
       "    <tr>\n",
       "      <th>3</th>\n",
       "      <td>11.2</td>\n",
       "      <td>0.28</td>\n",
       "      <td>0.56</td>\n",
       "      <td>1.9</td>\n",
       "      <td>0.075</td>\n",
       "      <td>17.0</td>\n",
       "      <td>60.0</td>\n",
       "      <td>0.9980</td>\n",
       "      <td>3.16</td>\n",
       "      <td>0.58</td>\n",
       "      <td>9.8</td>\n",
       "      <td>6</td>\n",
       "    </tr>\n",
       "    <tr>\n",
       "      <th>4</th>\n",
       "      <td>7.4</td>\n",
       "      <td>0.70</td>\n",
       "      <td>0.00</td>\n",
       "      <td>1.9</td>\n",
       "      <td>0.076</td>\n",
       "      <td>11.0</td>\n",
       "      <td>34.0</td>\n",
       "      <td>0.9978</td>\n",
       "      <td>3.51</td>\n",
       "      <td>0.56</td>\n",
       "      <td>9.4</td>\n",
       "      <td>5</td>\n",
       "    </tr>\n",
       "  </tbody>\n",
       "</table>\n",
       "</div>"
      ],
      "text/plain": [
       "   fixed acidity  volatile acidity  citric acid  residual sugar  chlorides  \\\n",
       "0            7.4              0.70         0.00             1.9      0.076   \n",
       "1            7.8              0.88         0.00             2.6      0.098   \n",
       "2            7.8              0.76         0.04             2.3      0.092   \n",
       "3           11.2              0.28         0.56             1.9      0.075   \n",
       "4            7.4              0.70         0.00             1.9      0.076   \n",
       "\n",
       "   free sulfur dioxide  total sulfur dioxide  density    pH  sulphates  \\\n",
       "0                 11.0                  34.0   0.9978  3.51       0.56   \n",
       "1                 25.0                  67.0   0.9968  3.20       0.68   \n",
       "2                 15.0                  54.0   0.9970  3.26       0.65   \n",
       "3                 17.0                  60.0   0.9980  3.16       0.58   \n",
       "4                 11.0                  34.0   0.9978  3.51       0.56   \n",
       "\n",
       "   alcohol  quality  \n",
       "0      9.4        5  \n",
       "1      9.8        5  \n",
       "2      9.8        5  \n",
       "3      9.8        6  \n",
       "4      9.4        5  "
      ]
     },
     "execution_count": 40,
     "metadata": {},
     "output_type": "execute_result"
    }
   ],
   "source": [
    "df = pd.read_csv(\"winequality_red.csv\")\n",
    "df.head()"
   ]
  },
  {
   "cell_type": "code",
   "execution_count": 124,
   "metadata": {},
   "outputs": [
    {
     "data": {
      "text/plain": [
       "array([5, 6, 7, 4, 8, 3])"
      ]
     },
     "execution_count": 124,
     "metadata": {},
     "output_type": "execute_result"
    }
   ],
   "source": [
    "df[\"quality\"].unique()"
   ]
  },
  {
   "cell_type": "code",
   "execution_count": 41,
   "metadata": {},
   "outputs": [],
   "source": [
    "X = df.drop(columns = 'quality')\n",
    "y = df['quality']"
   ]
  },
  {
   "cell_type": "code",
   "execution_count": 42,
   "metadata": {},
   "outputs": [],
   "source": [
    "x_train,x_test,y_train,y_test = train_test_split(X,y,test_size = 0.30, random_state= 42)"
   ]
  },
  {
   "cell_type": "markdown",
   "metadata": {},
   "source": [
    "### Manual Hyperparameter tunning"
   ]
  },
  {
   "cell_type": "code",
   "execution_count": 126,
   "metadata": {},
   "outputs": [
    {
     "name": "stdout",
     "output_type": "stream",
     "text": [
      "0.6333333333333333\n"
     ]
    }
   ],
   "source": [
    "\n",
    "\n",
    "rf = RandomForestClassifier(n_estimators=10, random_state = 42)\n",
    "rf.fit(x_train, y_train)\n",
    "predictions=rf.predict(x_test)\n",
    "print(accuracy_score(y_test,predictions))"
   ]
  },
  {
   "cell_type": "markdown",
   "metadata": {},
   "source": [
    "### GridSearch CV"
   ]
  },
  {
   "cell_type": "code",
   "execution_count": 44,
   "metadata": {},
   "outputs": [],
   "source": [
    "\n",
    "grid_param = {\n",
    "    \"n_estimators\" : [90,100],\n",
    "    'criterion': ['gini', 'entropy'],\n",
    "    'max_depth' : range(2,10,1),\n",
    "    'min_samples_leaf' : range(1,5,1),\n",
    "    'min_samples_split': range(2,5,1),\n",
    "    'max_features' : ['auto','log2']\n",
    "}\n",
    "\n",
    "grid_search = GridSearchCV(estimator=rf,param_grid=grid_param,cv=5,n_jobs =-1,verbose = 3)"
   ]
  },
  {
   "cell_type": "code",
   "execution_count": 45,
   "metadata": {},
   "outputs": [
    {
     "name": "stdout",
     "output_type": "stream",
     "text": [
      "Fitting 5 folds for each of 768 candidates, totalling 3840 fits\n"
     ]
    },
    {
     "name": "stderr",
     "output_type": "stream",
     "text": [
      "[Parallel(n_jobs=-1)]: Using backend LokyBackend with 8 concurrent workers.\n",
      "[Parallel(n_jobs=-1)]: Done  16 tasks      | elapsed:    2.3s\n",
      "[Parallel(n_jobs=-1)]: Done 112 tasks      | elapsed:    6.0s\n",
      "[Parallel(n_jobs=-1)]: Done 272 tasks      | elapsed:   12.4s\n",
      "[Parallel(n_jobs=-1)]: Done 496 tasks      | elapsed:   26.5s\n",
      "[Parallel(n_jobs=-1)]: Done 784 tasks      | elapsed:   42.8s\n",
      "[Parallel(n_jobs=-1)]: Done 1136 tasks      | elapsed:   58.2s\n",
      "[Parallel(n_jobs=-1)]: Done 1552 tasks      | elapsed:  1.3min\n",
      "[Parallel(n_jobs=-1)]: Done 2032 tasks      | elapsed:  1.6min\n",
      "[Parallel(n_jobs=-1)]: Done 2576 tasks      | elapsed:  2.0min\n",
      "[Parallel(n_jobs=-1)]: Done 3184 tasks      | elapsed:  2.5min\n",
      "[Parallel(n_jobs=-1)]: Done 3840 out of 3840 | elapsed:  3.0min finished\n"
     ]
    },
    {
     "data": {
      "text/plain": [
       "GridSearchCV(cv=5,\n",
       "             estimator=RandomForestClassifier(n_estimators=5, random_state=42),\n",
       "             n_jobs=-1,\n",
       "             param_grid={'criterion': ['gini', 'entropy'],\n",
       "                         'max_depth': range(2, 10),\n",
       "                         'max_features': ['auto', 'log2'],\n",
       "                         'min_samples_leaf': range(1, 5),\n",
       "                         'min_samples_split': range(2, 5),\n",
       "                         'n_estimators': [90, 100]},\n",
       "             verbose=3)"
      ]
     },
     "execution_count": 45,
     "metadata": {},
     "output_type": "execute_result"
    }
   ],
   "source": [
    "grid_search.fit(x_train,y_train)"
   ]
  },
  {
   "cell_type": "code",
   "execution_count": 54,
   "metadata": {},
   "outputs": [
    {
     "name": "stdout",
     "output_type": "stream",
     "text": [
      "Best Parameters: {'criterion': 'entropy', 'max_depth': 9, 'max_features': 'auto', 'min_samples_leaf': 1, 'min_samples_split': 2, 'n_estimators': 90}\n"
     ]
    }
   ],
   "source": [
    "print(\"Best Parameters:\", grid_search.best_params_)"
   ]
  },
  {
   "cell_type": "code",
   "execution_count": 59,
   "metadata": {},
   "outputs": [
    {
     "name": "stdout",
     "output_type": "stream",
     "text": [
      "0.6520833333333333\n"
     ]
    }
   ],
   "source": [
    "criterion= 'entropy'\n",
    "max_depth= 9\n",
    "max_features= 'auto'\n",
    "min_samples_leaf= 1\n",
    "min_samples_split= 2\n",
    "n_estimators= 90\n",
    "\n",
    "rf_grid = RandomForestClassifier(criterion=criterion, max_depth=max_depth,\n",
    "                                max_features=max_features, min_samples_leaf=min_samples_leaf,\n",
    "                                min_samples_split=min_samples_split, n_estimators=n_estimators, \n",
    "                                random_state = 1000)\n",
    "rf_grid.fit(x_train, y_train)\n",
    "predictions=rf_grid.predict(x_test)\n",
    "print(accuracy_score(y_test,predictions))"
   ]
  },
  {
   "cell_type": "markdown",
   "metadata": {},
   "source": [
    "### RandomSearch CV"
   ]
  },
  {
   "cell_type": "code",
   "execution_count": 62,
   "metadata": {},
   "outputs": [],
   "source": [
    "random_param = {\n",
    "    \"n_estimators\" : [90,100, 150],\n",
    "    'criterion': ['gini', 'entropy'],\n",
    "    'max_depth' : range(2,20,1),\n",
    "    'min_samples_leaf' : range(1,10,1),\n",
    "    'min_samples_split': range(2,10,1),\n",
    "    'max_features' : ['auto','log2']\n",
    "}\n",
    "\n",
    "\n",
    "random_search = RandomizedSearchCV(rf,random_param,cv=5,n_jobs =-1,verbose = 3)"
   ]
  },
  {
   "cell_type": "code",
   "execution_count": 63,
   "metadata": {},
   "outputs": [
    {
     "name": "stdout",
     "output_type": "stream",
     "text": [
      "Fitting 5 folds for each of 10 candidates, totalling 50 fits\n"
     ]
    },
    {
     "name": "stderr",
     "output_type": "stream",
     "text": [
      "[Parallel(n_jobs=-1)]: Using backend LokyBackend with 8 concurrent workers.\n",
      "[Parallel(n_jobs=-1)]: Done  16 tasks      | elapsed:    3.3s\n",
      "[Parallel(n_jobs=-1)]: Done  50 out of  50 | elapsed:    5.2s finished\n"
     ]
    },
    {
     "data": {
      "text/plain": [
       "RandomizedSearchCV(cv=5,\n",
       "                   estimator=RandomForestClassifier(n_estimators=5,\n",
       "                                                    random_state=42),\n",
       "                   n_jobs=-1,\n",
       "                   param_distributions={'criterion': ['gini', 'entropy'],\n",
       "                                        'max_depth': range(2, 20),\n",
       "                                        'max_features': ['auto', 'log2'],\n",
       "                                        'min_samples_leaf': range(1, 10),\n",
       "                                        'min_samples_split': range(2, 10),\n",
       "                                        'n_estimators': [90, 100, 150]},\n",
       "                   verbose=3)"
      ]
     },
     "execution_count": 63,
     "metadata": {},
     "output_type": "execute_result"
    }
   ],
   "source": [
    "random_search.fit(x_train,y_train)"
   ]
  },
  {
   "cell_type": "code",
   "execution_count": 64,
   "metadata": {},
   "outputs": [
    {
     "name": "stdout",
     "output_type": "stream",
     "text": [
      "Best Parameters: {'n_estimators': 100, 'min_samples_split': 4, 'min_samples_leaf': 1, 'max_features': 'auto', 'max_depth': 14, 'criterion': 'gini'}\n"
     ]
    }
   ],
   "source": [
    "print(\"Best Parameters:\", random_search.best_params_)"
   ]
  },
  {
   "cell_type": "code",
   "execution_count": 65,
   "metadata": {},
   "outputs": [
    {
     "name": "stdout",
     "output_type": "stream",
     "text": [
      "0.65625\n"
     ]
    }
   ],
   "source": [
    "criterion= 'gini'\n",
    "max_depth= 14\n",
    "max_features= 'auto'\n",
    "min_samples_leaf= 1\n",
    "min_samples_split= 4\n",
    "n_estimators= 100\n",
    "\n",
    "rf_search = RandomForestClassifier(criterion=criterion, max_depth=max_depth,\n",
    "                                max_features=max_features, min_samples_leaf=min_samples_leaf,\n",
    "                                min_samples_split=min_samples_split, n_estimators=n_estimators, \n",
    "                                random_state = 1000)\n",
    "rf_search.fit(x_train, y_train)\n",
    "predictions=rf_search.predict(x_test)\n",
    "print(accuracy_score(y_test,predictions))"
   ]
  },
  {
   "cell_type": "code",
   "execution_count": null,
   "metadata": {},
   "outputs": [],
   "source": []
  },
  {
   "cell_type": "markdown",
   "metadata": {},
   "source": [
    "### Optuna"
   ]
  },
  {
   "cell_type": "code",
   "execution_count": 127,
   "metadata": {},
   "outputs": [
    {
     "name": "stdout",
     "output_type": "stream",
     "text": [
      "Requirement already satisfied: optuna in /Users/amar.mandal/opt/anaconda3/lib/python3.8/site-packages (2.7.0)\n",
      "Requirement already satisfied: alembic in /Users/amar.mandal/opt/anaconda3/lib/python3.8/site-packages (from optuna) (1.6.2)\n",
      "Requirement already satisfied: scipy!=1.4.0 in /Users/amar.mandal/opt/anaconda3/lib/python3.8/site-packages (from optuna) (1.5.0)\n",
      "Requirement already satisfied: tqdm in /Users/amar.mandal/opt/anaconda3/lib/python3.8/site-packages (from optuna) (4.48.2)\n",
      "Requirement already satisfied: cliff in /Users/amar.mandal/opt/anaconda3/lib/python3.8/site-packages (from optuna) (3.7.0)\n",
      "Requirement already satisfied: sqlalchemy>=1.1.0 in /Users/amar.mandal/opt/anaconda3/lib/python3.8/site-packages (from optuna) (1.3.18)\n",
      "Requirement already satisfied: colorlog in /Users/amar.mandal/opt/anaconda3/lib/python3.8/site-packages (from optuna) (5.0.1)\n",
      "Requirement already satisfied: numpy in /Users/amar.mandal/opt/anaconda3/lib/python3.8/site-packages (from optuna) (1.18.5)\n",
      "Requirement already satisfied: packaging>=20.0 in /Users/amar.mandal/opt/anaconda3/lib/python3.8/site-packages (from optuna) (20.4)\n",
      "Requirement already satisfied: cmaes>=0.8.2 in /Users/amar.mandal/opt/anaconda3/lib/python3.8/site-packages (from optuna) (0.8.2)\n",
      "Requirement already satisfied: six in /Users/amar.mandal/opt/anaconda3/lib/python3.8/site-packages (from packaging>=20.0->optuna) (1.12.0)\n",
      "Requirement already satisfied: pyparsing>=2.0.2 in /Users/amar.mandal/opt/anaconda3/lib/python3.8/site-packages (from packaging>=20.0->optuna) (2.4.7)\n",
      "Requirement already satisfied: python-editor>=0.3 in /Users/amar.mandal/opt/anaconda3/lib/python3.8/site-packages (from alembic->optuna) (1.0.4)\n",
      "Requirement already satisfied: Mako in /Users/amar.mandal/opt/anaconda3/lib/python3.8/site-packages (from alembic->optuna) (1.1.4)\n",
      "Requirement already satisfied: python-dateutil in /Users/amar.mandal/opt/anaconda3/lib/python3.8/site-packages (from alembic->optuna) (2.8.0)\n",
      "Requirement already satisfied: PrettyTable>=0.7.2 in /Users/amar.mandal/opt/anaconda3/lib/python3.8/site-packages (from cliff->optuna) (2.1.0)\n",
      "Requirement already satisfied: pbr!=2.1.0,>=2.0.0 in /Users/amar.mandal/opt/anaconda3/lib/python3.8/site-packages (from cliff->optuna) (5.6.0)\n",
      "Requirement already satisfied: cmd2>=1.0.0 in /Users/amar.mandal/opt/anaconda3/lib/python3.8/site-packages (from cliff->optuna) (1.5.0)\n",
      "Requirement already satisfied: PyYAML>=3.12 in /Users/amar.mandal/opt/anaconda3/lib/python3.8/site-packages (from cliff->optuna) (5.3.1)\n",
      "Requirement already satisfied: stevedore>=2.0.1 in /Users/amar.mandal/opt/anaconda3/lib/python3.8/site-packages (from cliff->optuna) (3.3.0)\n",
      "Requirement already satisfied: colorama>=0.3.7 in /Users/amar.mandal/opt/anaconda3/lib/python3.8/site-packages (from cmd2>=1.0.0->cliff->optuna) (0.4.3)\n",
      "Requirement already satisfied: wcwidth>=0.1.7 in /Users/amar.mandal/opt/anaconda3/lib/python3.8/site-packages (from cmd2>=1.0.0->cliff->optuna) (0.1.7)\n",
      "Requirement already satisfied: attrs>=16.3.0 in /Users/amar.mandal/opt/anaconda3/lib/python3.8/site-packages (from cmd2>=1.0.0->cliff->optuna) (19.3.0)\n",
      "Requirement already satisfied: pyperclip>=1.6 in /Users/amar.mandal/opt/anaconda3/lib/python3.8/site-packages (from cmd2>=1.0.0->cliff->optuna) (1.8.2)\n",
      "Requirement already satisfied: MarkupSafe>=0.9.2 in /Users/amar.mandal/opt/anaconda3/lib/python3.8/site-packages (from Mako->alembic->optuna) (1.1.1)\n"
     ]
    }
   ],
   "source": [
    "!pip install optuna"
   ]
  },
  {
   "cell_type": "code",
   "execution_count": 101,
   "metadata": {},
   "outputs": [],
   "source": [
    "import optuna\n",
    "import sklearn\n",
    "from sklearn import datasets\n",
    "def objective(trial):\n",
    "    n_estimators = trial.suggest_int('n_estimators', 2, 150)\n",
    "    max_depth = trial.suggest_int('max_depth', 1, 32)\n",
    "    clf = RandomForestClassifier(n_estimators=n_estimators, max_depth=max_depth)\n",
    "    return sklearn.model_selection.cross_val_score(clf, X, y, \n",
    "       n_jobs=-1, cv=5).mean()"
   ]
  },
  {
   "cell_type": "code",
   "execution_count": 102,
   "metadata": {},
   "outputs": [
    {
     "name": "stderr",
     "output_type": "stream",
     "text": [
      "\u001b[32m[I 2021-05-12 11:20:31,992]\u001b[0m A new study created in memory with name: no-name-0003b556-3580-4148-857b-5f5a9f84c2e8\u001b[0m\n",
      "\u001b[32m[I 2021-05-12 11:20:32,409]\u001b[0m Trial 0 finished with value: 0.5860148902821317 and parameters: {'n_estimators': 110, 'max_depth': 6}. Best is trial 0 with value: 0.5860148902821317.\u001b[0m\n",
      "\u001b[32m[I 2021-05-12 11:20:32,734]\u001b[0m Trial 1 finished with value: 0.5709894200626959 and parameters: {'n_estimators': 76, 'max_depth': 15}. Best is trial 0 with value: 0.5860148902821317.\u001b[0m\n",
      "\u001b[32m[I 2021-05-12 11:20:32,986]\u001b[0m Trial 2 finished with value: 0.5747492163009404 and parameters: {'n_estimators': 59, 'max_depth': 15}. Best is trial 0 with value: 0.5860148902821317.\u001b[0m\n",
      "\u001b[32m[I 2021-05-12 11:20:33,116]\u001b[0m Trial 3 finished with value: 0.5559717868338558 and parameters: {'n_estimators': 21, 'max_depth': 26}. Best is trial 0 with value: 0.5860148902821317.\u001b[0m\n",
      "\u001b[32m[I 2021-05-12 11:20:33,218]\u001b[0m Trial 4 finished with value: 0.5459815830721004 and parameters: {'n_estimators': 17, 'max_depth': 21}. Best is trial 0 with value: 0.5860148902821317.\u001b[0m\n",
      "\u001b[32m[I 2021-05-12 11:20:33,405]\u001b[0m Trial 5 finished with value: 0.5659796238244514 and parameters: {'n_estimators': 38, 'max_depth': 14}. Best is trial 0 with value: 0.5860148902821317.\u001b[0m\n",
      "\u001b[32m[I 2021-05-12 11:20:33,635]\u001b[0m Trial 6 finished with value: 0.5715948275862068 and parameters: {'n_estimators': 52, 'max_depth': 24}. Best is trial 0 with value: 0.5860148902821317.\u001b[0m\n",
      "\u001b[32m[I 2021-05-12 11:20:33,862]\u001b[0m Trial 7 finished with value: 0.5641065830721004 and parameters: {'n_estimators': 52, 'max_depth': 23}. Best is trial 0 with value: 0.5860148902821317.\u001b[0m\n",
      "\u001b[32m[I 2021-05-12 11:20:33,933]\u001b[0m Trial 8 finished with value: 0.5572492163009405 and parameters: {'n_estimators': 20, 'max_depth': 1}. Best is trial 0 with value: 0.5860148902821317.\u001b[0m\n",
      "\u001b[32m[I 2021-05-12 11:20:34,251]\u001b[0m Trial 9 finished with value: 0.579114420062696 and parameters: {'n_estimators': 77, 'max_depth': 28}. Best is trial 0 with value: 0.5860148902821317.\u001b[0m\n",
      "\u001b[32m[I 2021-05-12 11:20:34,607]\u001b[0m Trial 10 finished with value: 0.5922609717868339 and parameters: {'n_estimators': 128, 'max_depth': 4}. Best is trial 10 with value: 0.5922609717868339.\u001b[0m\n",
      "\u001b[32m[I 2021-05-12 11:20:34,944]\u001b[0m Trial 11 finished with value: 0.5791242163009405 and parameters: {'n_estimators': 129, 'max_depth': 3}. Best is trial 10 with value: 0.5922609717868339.\u001b[0m\n",
      "\u001b[32m[I 2021-05-12 11:20:35,371]\u001b[0m Trial 12 finished with value: 0.5803781347962382 and parameters: {'n_estimators': 133, 'max_depth': 7}. Best is trial 10 with value: 0.5922609717868339.\u001b[0m\n",
      "\u001b[32m[I 2021-05-12 11:20:35,739]\u001b[0m Trial 13 finished with value: 0.5866320532915361 and parameters: {'n_estimators': 107, 'max_depth': 8}. Best is trial 10 with value: 0.5922609717868339.\u001b[0m\n",
      "\u001b[32m[I 2021-05-12 11:20:36,127]\u001b[0m Trial 14 finished with value: 0.5797668495297806 and parameters: {'n_estimators': 105, 'max_depth': 10}. Best is trial 10 with value: 0.5922609717868339.\u001b[0m\n",
      "\u001b[32m[I 2021-05-12 11:20:36,693]\u001b[0m Trial 15 finished with value: 0.5697492163009404 and parameters: {'n_estimators': 149, 'max_depth': 11}. Best is trial 10 with value: 0.5922609717868339.\u001b[0m\n",
      "\u001b[32m[I 2021-05-12 11:20:36,972]\u001b[0m Trial 16 finished with value: 0.5835129310344828 and parameters: {'n_estimators': 100, 'max_depth': 4}. Best is trial 10 with value: 0.5922609717868339.\u001b[0m\n",
      "\u001b[32m[I 2021-05-12 11:20:37,560]\u001b[0m Trial 17 finished with value: 0.5716163793103448 and parameters: {'n_estimators': 150, 'max_depth': 32}. Best is trial 10 with value: 0.5922609717868339.\u001b[0m\n",
      "\u001b[32m[I 2021-05-12 11:20:37,998]\u001b[0m Trial 18 finished with value: 0.5653742163009404 and parameters: {'n_estimators': 122, 'max_depth': 9}. Best is trial 10 with value: 0.5922609717868339.\u001b[0m\n",
      "\u001b[32m[I 2021-05-12 11:20:38,215]\u001b[0m Trial 19 finished with value: 0.5447335423197492 and parameters: {'n_estimators': 92, 'max_depth': 1}. Best is trial 10 with value: 0.5922609717868339.\u001b[0m\n",
      "\u001b[32m[I 2021-05-12 11:20:38,773]\u001b[0m Trial 20 finished with value: 0.5728526645768024 and parameters: {'n_estimators': 140, 'max_depth': 19}. Best is trial 10 with value: 0.5922609717868339.\u001b[0m\n",
      "\u001b[32m[I 2021-05-12 11:20:39,125]\u001b[0m Trial 21 finished with value: 0.5853840125391849 and parameters: {'n_estimators': 114, 'max_depth': 6}. Best is trial 10 with value: 0.5922609717868339.\u001b[0m\n",
      "\u001b[32m[I 2021-05-12 11:20:39,405]\u001b[0m Trial 22 finished with value: 0.5872472570532915 and parameters: {'n_estimators': 89, 'max_depth': 6}. Best is trial 10 with value: 0.5922609717868339.\u001b[0m\n",
      "\u001b[32m[I 2021-05-12 11:20:39,757]\u001b[0m Trial 23 finished with value: 0.5747296238244515 and parameters: {'n_estimators': 89, 'max_depth': 12}. Best is trial 10 with value: 0.5922609717868339.\u001b[0m\n",
      "\u001b[32m[I 2021-05-12 11:20:40,061]\u001b[0m Trial 24 finished with value: 0.5828761755485894 and parameters: {'n_estimators': 119, 'max_depth': 3}. Best is trial 10 with value: 0.5922609717868339.\u001b[0m\n",
      "\u001b[32m[I 2021-05-12 11:20:40,365]\u001b[0m Trial 25 finished with value: 0.584760971786834 and parameters: {'n_estimators': 87, 'max_depth': 8}. Best is trial 10 with value: 0.5922609717868339.\u001b[0m\n",
      "\u001b[32m[I 2021-05-12 11:20:40,655]\u001b[0m Trial 26 finished with value: 0.583507053291536 and parameters: {'n_estimators': 98, 'max_depth': 5}. Best is trial 10 with value: 0.5922609717868339.\u001b[0m\n",
      "\u001b[32m[I 2021-05-12 11:20:40,830]\u001b[0m Trial 27 finished with value: 0.5628663793103448 and parameters: {'n_estimators': 69, 'max_depth': 1}. Best is trial 10 with value: 0.5922609717868339.\u001b[0m\n",
      "\u001b[32m[I 2021-05-12 11:20:41,395]\u001b[0m Trial 28 finished with value: 0.5797413793103449 and parameters: {'n_estimators': 139, 'max_depth': 12}. Best is trial 10 with value: 0.5922609717868339.\u001b[0m\n",
      "\u001b[32m[I 2021-05-12 11:20:41,817]\u001b[0m Trial 29 finished with value: 0.5897570532915362 and parameters: {'n_estimators': 113, 'max_depth': 7}. Best is trial 10 with value: 0.5922609717868339.\u001b[0m\n",
      "\u001b[32m[I 2021-05-12 11:20:42,218]\u001b[0m Trial 30 finished with value: 0.591634012539185 and parameters: {'n_estimators': 126, 'max_depth': 5}. Best is trial 10 with value: 0.5922609717868339.\u001b[0m\n",
      "\u001b[32m[I 2021-05-12 11:20:42,581]\u001b[0m Trial 31 finished with value: 0.594134012539185 and parameters: {'n_estimators': 126, 'max_depth': 5}. Best is trial 31 with value: 0.594134012539185.\u001b[0m\n",
      "\u001b[32m[I 2021-05-12 11:20:42,892]\u001b[0m Trial 32 finished with value: 0.5778761755485893 and parameters: {'n_estimators': 126, 'max_depth': 3}. Best is trial 31 with value: 0.594134012539185.\u001b[0m\n",
      "\u001b[32m[I 2021-05-12 11:20:43,195]\u001b[0m Trial 33 finished with value: 0.5547413793103448 and parameters: {'n_estimators': 142, 'max_depth': 1}. Best is trial 31 with value: 0.594134012539185.\u001b[0m\n",
      "\u001b[32m[I 2021-05-12 11:20:43,517]\u001b[0m Trial 34 finished with value: 0.5822531347962383 and parameters: {'n_estimators': 115, 'max_depth': 4}. Best is trial 31 with value: 0.594134012539185.\u001b[0m\n",
      "\u001b[32m[I 2021-05-12 11:20:44,062]\u001b[0m Trial 35 finished with value: 0.5678683385579937 and parameters: {'n_estimators': 133, 'max_depth': 17}. Best is trial 31 with value: 0.594134012539185.\u001b[0m\n",
      "\u001b[32m[I 2021-05-12 11:20:44,549]\u001b[0m Trial 36 finished with value: 0.5916359717868338 and parameters: {'n_estimators': 150, 'max_depth': 7}. Best is trial 31 with value: 0.594134012539185.\u001b[0m\n",
      "\u001b[32m[I 2021-05-12 11:20:45,006]\u001b[0m Trial 37 finished with value: 0.5941300940438872 and parameters: {'n_estimators': 149, 'max_depth': 5}. Best is trial 31 with value: 0.594134012539185.\u001b[0m\n",
      "\u001b[32m[I 2021-05-12 11:20:45,582]\u001b[0m Trial 38 finished with value: 0.5678585423197492 and parameters: {'n_estimators': 149, 'max_depth': 13}. Best is trial 31 with value: 0.594134012539185.\u001b[0m\n",
      "\u001b[32m[I 2021-05-12 11:20:46,120]\u001b[0m Trial 39 finished with value: 0.5778722570532915 and parameters: {'n_estimators': 145, 'max_depth': 10}. Best is trial 31 with value: 0.594134012539185.\u001b[0m\n",
      "\u001b[32m[I 2021-05-12 11:20:46,660]\u001b[0m Trial 40 finished with value: 0.5666144200626959 and parameters: {'n_estimators': 136, 'max_depth': 16}. Best is trial 31 with value: 0.594134012539185.\u001b[0m\n",
      "\u001b[32m[I 2021-05-12 11:20:46,698]\u001b[0m Trial 41 finished with value: 0.5397433385579937 and parameters: {'n_estimators': 2, 'max_depth': 5}. Best is trial 31 with value: 0.594134012539185.\u001b[0m\n"
     ]
    },
    {
     "name": "stderr",
     "output_type": "stream",
     "text": [
      "\u001b[32m[I 2021-05-12 11:20:47,001]\u001b[0m Trial 42 finished with value: 0.5747531347962382 and parameters: {'n_estimators': 127, 'max_depth': 2}. Best is trial 31 with value: 0.594134012539185.\u001b[0m\n",
      "\u001b[32m[I 2021-05-12 11:20:47,461]\u001b[0m Trial 43 finished with value: 0.5847609717868338 and parameters: {'n_estimators': 150, 'max_depth': 5}. Best is trial 31 with value: 0.594134012539185.\u001b[0m\n",
      "\u001b[32m[I 2021-05-12 11:20:47,902]\u001b[0m Trial 44 finished with value: 0.5791300940438872 and parameters: {'n_estimators': 121, 'max_depth': 9}. Best is trial 31 with value: 0.594134012539185.\u001b[0m\n",
      "\u001b[32m[I 2021-05-12 11:20:48,315]\u001b[0m Trial 45 finished with value: 0.5872629310344827 and parameters: {'n_estimators': 129, 'max_depth': 7}. Best is trial 31 with value: 0.594134012539185.\u001b[0m\n",
      "\u001b[32m[I 2021-05-12 11:20:48,677]\u001b[0m Trial 46 finished with value: 0.5803722570532915 and parameters: {'n_estimators': 144, 'max_depth': 3}. Best is trial 31 with value: 0.594134012539185.\u001b[0m\n",
      "\u001b[32m[I 2021-05-12 11:20:49,078]\u001b[0m Trial 47 finished with value: 0.6028859717868338 and parameters: {'n_estimators': 133, 'max_depth': 6}. Best is trial 47 with value: 0.6028859717868338.\u001b[0m\n",
      "\u001b[32m[I 2021-05-12 11:20:49,567]\u001b[0m Trial 48 finished with value: 0.5791242163009405 and parameters: {'n_estimators': 136, 'max_depth': 9}. Best is trial 47 with value: 0.6028859717868338.\u001b[0m\n",
      "\u001b[32m[I 2021-05-12 11:20:49,906]\u001b[0m Trial 49 finished with value: 0.5653663793103448 and parameters: {'n_estimators': 145, 'max_depth': 2}. Best is trial 47 with value: 0.6028859717868338.\u001b[0m\n",
      "\u001b[32m[I 2021-05-12 11:20:50,060]\u001b[0m Trial 50 finished with value: 0.5885129310344828 and parameters: {'n_estimators': 40, 'max_depth': 7}. Best is trial 47 with value: 0.6028859717868338.\u001b[0m\n",
      "\u001b[32m[I 2021-05-12 11:20:50,436]\u001b[0m Trial 51 finished with value: 0.584757053291536 and parameters: {'n_estimators': 131, 'max_depth': 5}. Best is trial 47 with value: 0.6028859717868338.\u001b[0m\n",
      "\u001b[32m[I 2021-05-12 11:20:50,757]\u001b[0m Trial 52 finished with value: 0.5785050940438871 and parameters: {'n_estimators': 123, 'max_depth': 4}. Best is trial 47 with value: 0.6028859717868338.\u001b[0m\n",
      "\u001b[32m[I 2021-05-12 11:20:51,149]\u001b[0m Trial 53 finished with value: 0.5772531347962382 and parameters: {'n_estimators': 107, 'max_depth': 8}. Best is trial 47 with value: 0.6028859717868338.\u001b[0m\n",
      "\u001b[32m[I 2021-05-12 11:20:51,556]\u001b[0m Trial 54 finished with value: 0.5897570532915359 and parameters: {'n_estimators': 136, 'max_depth': 6}. Best is trial 47 with value: 0.6028859717868338.\u001b[0m\n",
      "\u001b[32m[I 2021-05-12 11:20:51,840]\u001b[0m Trial 55 finished with value: 0.5641222570532916 and parameters: {'n_estimators': 119, 'max_depth': 2}. Best is trial 47 with value: 0.6028859717868338.\u001b[0m\n",
      "\u001b[32m[I 2021-05-12 11:20:52,347]\u001b[0m Trial 56 finished with value: 0.569130094043887 and parameters: {'n_estimators': 142, 'max_depth': 10}. Best is trial 47 with value: 0.6028859717868338.\u001b[0m\n",
      "\u001b[32m[I 2021-05-12 11:20:52,621]\u001b[0m Trial 57 finished with value: 0.5903879310344827 and parameters: {'n_estimators': 102, 'max_depth': 4}. Best is trial 47 with value: 0.6028859717868338.\u001b[0m\n",
      "\u001b[32m[I 2021-05-12 11:20:53,059]\u001b[0m Trial 58 finished with value: 0.5885109717868339 and parameters: {'n_estimators': 149, 'max_depth': 6}. Best is trial 47 with value: 0.6028859717868338.\u001b[0m\n",
      "\u001b[32m[I 2021-05-12 11:20:53,514]\u001b[0m Trial 59 finished with value: 0.5759992163009404 and parameters: {'n_estimators': 126, 'max_depth': 8}. Best is trial 47 with value: 0.6028859717868338.\u001b[0m\n",
      "\u001b[32m[I 2021-05-12 11:20:53,793]\u001b[0m Trial 60 finished with value: 0.5847472570532914 and parameters: {'n_estimators': 111, 'max_depth': 3}. Best is trial 47 with value: 0.6028859717868338.\u001b[0m\n",
      "\u001b[32m[I 2021-05-12 11:20:54,075]\u001b[0m Trial 61 finished with value: 0.5878820532915361 and parameters: {'n_estimators': 103, 'max_depth': 4}. Best is trial 47 with value: 0.6028859717868338.\u001b[0m\n",
      "\u001b[32m[I 2021-05-12 11:20:54,359]\u001b[0m Trial 62 finished with value: 0.5785031347962383 and parameters: {'n_estimators': 98, 'max_depth': 5}. Best is trial 47 with value: 0.6028859717868338.\u001b[0m\n",
      "\u001b[32m[I 2021-05-12 11:20:54,610]\u001b[0m Trial 63 finished with value: 0.592259012539185 and parameters: {'n_estimators': 78, 'max_depth': 6}. Best is trial 47 with value: 0.6028859717868338.\u001b[0m\n",
      "\u001b[32m[I 2021-05-12 11:20:54,859]\u001b[0m Trial 64 finished with value: 0.5903840125391849 and parameters: {'n_estimators': 64, 'max_depth': 7}. Best is trial 47 with value: 0.6028859717868338.\u001b[0m\n",
      "\u001b[32m[I 2021-05-12 11:20:55,192]\u001b[0m Trial 65 finished with value: 0.5678761755485893 and parameters: {'n_estimators': 77, 'max_depth': 11}. Best is trial 47 with value: 0.6028859717868338.\u001b[0m\n",
      "\u001b[32m[I 2021-05-12 11:20:55,329]\u001b[0m Trial 66 finished with value: 0.5785011755485894 and parameters: {'n_estimators': 32, 'max_depth': 6}. Best is trial 47 with value: 0.6028859717868338.\u001b[0m\n",
      "\u001b[32m[I 2021-05-12 11:20:55,627]\u001b[0m Trial 67 finished with value: 0.5716124608150471 and parameters: {'n_estimators': 117, 'max_depth': 2}. Best is trial 47 with value: 0.6028859717868338.\u001b[0m\n",
      "\u001b[32m[I 2021-05-12 11:20:56,161]\u001b[0m Trial 68 finished with value: 0.5703605015673981 and parameters: {'n_estimators': 133, 'max_depth': 28}. Best is trial 47 with value: 0.6028859717868338.\u001b[0m\n",
      "\u001b[32m[I 2021-05-12 11:20:56,579]\u001b[0m Trial 69 finished with value: 0.580989420062696 and parameters: {'n_estimators': 123, 'max_depth': 8}. Best is trial 47 with value: 0.6028859717868338.\u001b[0m\n",
      "\u001b[32m[I 2021-05-12 11:20:56,706]\u001b[0m Trial 70 finished with value: 0.5553663793103448 and parameters: {'n_estimators': 49, 'max_depth': 1}. Best is trial 47 with value: 0.6028859717868338.\u001b[0m\n",
      "\u001b[32m[I 2021-05-12 11:20:56,961]\u001b[0m Trial 71 finished with value: 0.5897648902821316 and parameters: {'n_estimators': 85, 'max_depth': 4}. Best is trial 47 with value: 0.6028859717868338.\u001b[0m\n",
      "\u001b[32m[I 2021-05-12 11:20:57,191]\u001b[0m Trial 72 finished with value: 0.5853840125391849 and parameters: {'n_estimators': 78, 'max_depth': 5}. Best is trial 47 with value: 0.6028859717868338.\u001b[0m\n",
      "\u001b[32m[I 2021-05-12 11:20:57,427]\u001b[0m Trial 73 finished with value: 0.5784933385579937 and parameters: {'n_estimators': 94, 'max_depth': 3}. Best is trial 47 with value: 0.6028859717868338.\u001b[0m\n",
      "\u001b[32m[I 2021-05-12 11:20:57,685]\u001b[0m Trial 74 finished with value: 0.5828898902821317 and parameters: {'n_estimators': 82, 'max_depth': 6}. Best is trial 47 with value: 0.6028859717868338.\u001b[0m\n",
      "\u001b[32m[I 2021-05-12 11:20:58,043]\u001b[0m Trial 75 finished with value: 0.5910109717868339 and parameters: {'n_estimators': 138, 'max_depth': 4}. Best is trial 47 with value: 0.6028859717868338.\u001b[0m\n",
      "\u001b[32m[I 2021-05-12 11:20:58,478]\u001b[0m Trial 76 finished with value: 0.5928800940438872 and parameters: {'n_estimators': 138, 'max_depth': 7}. Best is trial 47 with value: 0.6028859717868338.\u001b[0m\n",
      "\u001b[32m[I 2021-05-12 11:20:59,006]\u001b[0m Trial 77 finished with value: 0.5809874608150472 and parameters: {'n_estimators': 146, 'max_depth': 10}. Best is trial 47 with value: 0.6028859717868338.\u001b[0m\n",
      "\u001b[32m[I 2021-05-12 11:20:59,442]\u001b[0m Trial 78 finished with value: 0.5841300940438872 and parameters: {'n_estimators': 141, 'max_depth': 7}. Best is trial 47 with value: 0.6028859717868338.\u001b[0m\n",
      "\u001b[32m[I 2021-05-12 11:20:59,893]\u001b[0m Trial 79 finished with value: 0.5809952978056426 and parameters: {'n_estimators': 130, 'max_depth': 9}. Best is trial 47 with value: 0.6028859717868338.\u001b[0m\n",
      "\u001b[32m[I 2021-05-12 11:21:00,302]\u001b[0m Trial 80 finished with value: 0.586634012539185 and parameters: {'n_estimators': 135, 'max_depth': 6}. Best is trial 47 with value: 0.6028859717868338.\u001b[0m\n",
      "\u001b[32m[I 2021-05-12 11:21:00,686]\u001b[0m Trial 81 finished with value: 0.5816320532915361 and parameters: {'n_estimators': 139, 'max_depth': 5}. Best is trial 47 with value: 0.6028859717868338.\u001b[0m\n",
      "\u001b[32m[I 2021-05-12 11:21:01,042]\u001b[0m Trial 82 finished with value: 0.5916359717868339 and parameters: {'n_estimators': 138, 'max_depth': 4}. Best is trial 47 with value: 0.6028859717868338.\u001b[0m\n",
      "\u001b[32m[I 2021-05-12 11:21:01,509]\u001b[0m Trial 83 finished with value: 0.5903820532915361 and parameters: {'n_estimators': 148, 'max_depth': 7}. Best is trial 47 with value: 0.6028859717868338.\u001b[0m\n",
      "\u001b[32m[I 2021-05-12 11:21:01,926]\u001b[0m Trial 84 finished with value: 0.5903938087774294 and parameters: {'n_estimators': 126, 'max_depth': 8}. Best is trial 47 with value: 0.6028859717868338.\u001b[0m\n"
     ]
    },
    {
     "name": "stderr",
     "output_type": "stream",
     "text": [
      "\u001b[32m[I 2021-05-12 11:21:02,244]\u001b[0m Trial 85 finished with value: 0.5809952978056426 and parameters: {'n_estimators': 132, 'max_depth': 3}. Best is trial 47 with value: 0.6028859717868338.\u001b[0m\n",
      "\u001b[32m[I 2021-05-12 11:21:02,569]\u001b[0m Trial 86 finished with value: 0.5678683385579937 and parameters: {'n_estimators': 144, 'max_depth': 2}. Best is trial 47 with value: 0.6028859717868338.\u001b[0m\n",
      "\u001b[32m[I 2021-05-12 11:21:03,076]\u001b[0m Trial 87 finished with value: 0.576009012539185 and parameters: {'n_estimators': 129, 'max_depth': 20}. Best is trial 47 with value: 0.6028859717868338.\u001b[0m\n",
      "\u001b[32m[I 2021-05-12 11:21:03,422]\u001b[0m Trial 88 finished with value: 0.587884012539185 and parameters: {'n_estimators': 116, 'max_depth': 6}. Best is trial 47 with value: 0.6028859717868338.\u001b[0m\n",
      "\u001b[32m[I 2021-05-12 11:21:03,713]\u001b[0m Trial 89 finished with value: 0.5878879310344828 and parameters: {'n_estimators': 108, 'max_depth': 4}. Best is trial 47 with value: 0.6028859717868338.\u001b[0m\n",
      "\u001b[32m[I 2021-05-12 11:21:04,060]\u001b[0m Trial 90 finished with value: 0.5859992163009404 and parameters: {'n_estimators': 123, 'max_depth': 5}. Best is trial 47 with value: 0.6028859717868338.\u001b[0m\n",
      "\u001b[32m[I 2021-05-12 11:21:04,424]\u001b[0m Trial 91 finished with value: 0.587259012539185 and parameters: {'n_estimators': 140, 'max_depth': 4}. Best is trial 47 with value: 0.6028859717868338.\u001b[0m\n",
      "\u001b[32m[I 2021-05-12 11:21:04,873]\u001b[0m Trial 92 finished with value: 0.5872570532915361 and parameters: {'n_estimators': 138, 'max_depth': 7}. Best is trial 47 with value: 0.6028859717868338.\u001b[0m\n",
      "\u001b[32m[I 2021-05-12 11:21:05,243]\u001b[0m Trial 93 finished with value: 0.5772492163009404 and parameters: {'n_estimators': 150, 'max_depth': 3}. Best is trial 47 with value: 0.6028859717868338.\u001b[0m\n",
      "\u001b[32m[I 2021-05-12 11:21:05,715]\u001b[0m Trial 94 finished with value: 0.5766242163009404 and parameters: {'n_estimators': 136, 'max_depth': 9}. Best is trial 47 with value: 0.6028859717868338.\u001b[0m\n",
      "\u001b[32m[I 2021-05-12 11:21:05,760]\u001b[0m Trial 95 finished with value: 0.5741300940438872 and parameters: {'n_estimators': 6, 'max_depth': 5}. Best is trial 47 with value: 0.6028859717868338.\u001b[0m\n",
      "\u001b[32m[I 2021-05-12 11:21:06,090]\u001b[0m Trial 96 finished with value: 0.5741183385579938 and parameters: {'n_estimators': 146, 'max_depth': 2}. Best is trial 47 with value: 0.6028859717868338.\u001b[0m\n",
      "\u001b[32m[I 2021-05-12 11:21:06,493]\u001b[0m Trial 97 finished with value: 0.5897609717868338 and parameters: {'n_estimators': 134, 'max_depth': 6}. Best is trial 47 with value: 0.6028859717868338.\u001b[0m\n",
      "\u001b[32m[I 2021-05-12 11:21:06,976]\u001b[0m Trial 98 finished with value: 0.5809992163009405 and parameters: {'n_estimators': 120, 'max_depth': 23}. Best is trial 47 with value: 0.6028859717868338.\u001b[0m\n",
      "\u001b[32m[I 2021-05-12 11:21:07,304]\u001b[0m Trial 99 finished with value: 0.5878820532915361 and parameters: {'n_estimators': 128, 'max_depth': 4}. Best is trial 47 with value: 0.6028859717868338.\u001b[0m\n"
     ]
    }
   ],
   "source": [
    "study = optuna.create_study(direction='maximize')\n",
    "study.optimize(objective, n_trials=100)"
   ]
  },
  {
   "cell_type": "code",
   "execution_count": 103,
   "metadata": {},
   "outputs": [
    {
     "name": "stdout",
     "output_type": "stream",
     "text": [
      "Accuracy: 0.6028859717868338\n"
     ]
    }
   ],
   "source": [
    "trial = study.best_trial\n",
    "print('Accuracy: {}'.format(trial.value))"
   ]
  },
  {
   "cell_type": "code",
   "execution_count": 104,
   "metadata": {},
   "outputs": [
    {
     "name": "stdout",
     "output_type": "stream",
     "text": [
      "Best hyperparameters: {'n_estimators': 133, 'max_depth': 6}\n"
     ]
    }
   ],
   "source": [
    "print(\"Best hyperparameters: {}\".format(trial.params))"
   ]
  },
  {
   "cell_type": "code",
   "execution_count": null,
   "metadata": {},
   "outputs": [],
   "source": []
  },
  {
   "cell_type": "markdown",
   "metadata": {},
   "source": [
    "### HyperOpt"
   ]
  },
  {
   "cell_type": "code",
   "execution_count": 128,
   "metadata": {},
   "outputs": [
    {
     "name": "stdout",
     "output_type": "stream",
     "text": [
      "Requirement already satisfied: hyperopt in /Users/amar.mandal/opt/anaconda3/lib/python3.8/site-packages (0.2.5)\n",
      "Requirement already satisfied: scipy in /Users/amar.mandal/opt/anaconda3/lib/python3.8/site-packages (from hyperopt) (1.5.0)\n",
      "Requirement already satisfied: numpy in /Users/amar.mandal/opt/anaconda3/lib/python3.8/site-packages (from hyperopt) (1.18.5)\n",
      "Requirement already satisfied: tqdm in /Users/amar.mandal/opt/anaconda3/lib/python3.8/site-packages (from hyperopt) (4.48.2)\n",
      "Requirement already satisfied: future in /Users/amar.mandal/opt/anaconda3/lib/python3.8/site-packages (from hyperopt) (0.18.2)\n",
      "Requirement already satisfied: cloudpickle in /Users/amar.mandal/opt/anaconda3/lib/python3.8/site-packages (from hyperopt) (1.5.0)\n",
      "Requirement already satisfied: networkx>=2.2 in /Users/amar.mandal/opt/anaconda3/lib/python3.8/site-packages (from hyperopt) (2.4)\n",
      "Requirement already satisfied: six in /Users/amar.mandal/opt/anaconda3/lib/python3.8/site-packages (from hyperopt) (1.12.0)\n",
      "Requirement already satisfied: decorator>=4.3.0 in /Users/amar.mandal/opt/anaconda3/lib/python3.8/site-packages (from networkx>=2.2->hyperopt) (4.4.0)\n"
     ]
    }
   ],
   "source": [
    "!pip install hyperopt"
   ]
  },
  {
   "cell_type": "code",
   "execution_count": 114,
   "metadata": {},
   "outputs": [],
   "source": [
    "from hyperopt import hp,fmin,tpe,STATUS_OK,Trials"
   ]
  },
  {
   "cell_type": "code",
   "execution_count": 115,
   "metadata": {},
   "outputs": [],
   "source": [
    "space = {'criterion': hp.choice('criterion', ['entropy', 'gini']),\n",
    "        'max_depth': hp.quniform('max_depth', 10, 1200, 10),\n",
    "        'max_features': hp.choice('max_features', ['auto', 'sqrt','log2', None]),\n",
    "        'min_samples_leaf': hp.uniform('min_samples_leaf', 0, 0.5),\n",
    "        'min_samples_split' : hp.uniform ('min_samples_split', 0, 1),\n",
    "        'n_estimators' : hp.choice('n_estimators', [10, 50, 300, 750, 1200,1300,1500])\n",
    "    }"
   ]
  },
  {
   "cell_type": "code",
   "execution_count": 118,
   "metadata": {},
   "outputs": [],
   "source": [
    "def objective(space):\n",
    "    model = RandomForestClassifier(criterion = space['criterion'], max_depth = space['max_depth'],\n",
    "                                 max_features = space['max_features'],\n",
    "                                 min_samples_leaf = space['min_samples_leaf'],\n",
    "                                 min_samples_split = space['min_samples_split'],\n",
    "                                 n_estimators = space['n_estimators'], \n",
    "                                 )\n",
    "    \n",
    "    accuracy = cross_val_score(model, x_train, y_train, cv = 5).mean()\n",
    "\n",
    "    # We aim to maximize accuracy, therefore we return it as a negative value\n",
    "    return {'loss': -accuracy, 'status': STATUS_OK }"
   ]
  },
  {
   "cell_type": "code",
   "execution_count": 119,
   "metadata": {},
   "outputs": [
    {
     "name": "stdout",
     "output_type": "stream",
     "text": [
      "100%|██████████| 80/80 [10:08<00:00,  7.60s/trial, best loss: -0.6318745996156311]\n"
     ]
    },
    {
     "data": {
      "text/plain": [
       "{'criterion': 0,\n",
       " 'max_depth': 1140.0,\n",
       " 'max_features': 2,\n",
       " 'min_samples_leaf': 0.01604499012682059,\n",
       " 'min_samples_split': 0.03222644181384632,\n",
       " 'n_estimators': 5}"
      ]
     },
     "execution_count": 119,
     "metadata": {},
     "output_type": "execute_result"
    }
   ],
   "source": [
    "from sklearn.model_selection import cross_val_score\n",
    "trials = Trials()\n",
    "best = fmin(fn= objective,\n",
    "            space= space,\n",
    "            algo= tpe.suggest,\n",
    "            max_evals = 80,\n",
    "            trials= trials)\n",
    "best"
   ]
  },
  {
   "cell_type": "code",
   "execution_count": 120,
   "metadata": {},
   "outputs": [
    {
     "name": "stdout",
     "output_type": "stream",
     "text": [
      "entropy\n",
      "log2\n",
      "1300\n"
     ]
    }
   ],
   "source": [
    "crit = {0: 'entropy', 1: 'gini'}\n",
    "feat = {0: 'auto', 1: 'sqrt', 2: 'log2', 3: None}\n",
    "est = {0: 10, 1: 50, 2: 300, 3: 750, 4: 1200,5:1300,6:1500}\n",
    "\n",
    "\n",
    "print(crit[best['criterion']])\n",
    "print(feat[best['max_features']])\n",
    "print(est[best['n_estimators']])"
   ]
  },
  {
   "cell_type": "code",
   "execution_count": 123,
   "metadata": {},
   "outputs": [
    {
     "name": "stdout",
     "output_type": "stream",
     "text": [
      "0.5729166666666666\n"
     ]
    }
   ],
   "source": [
    "rf_ho = RandomForestClassifier(criterion = crit[best['criterion']], max_depth = best['max_depth'], \n",
    "                                       max_features = feat[best['max_features']], \n",
    "                                       min_samples_leaf = best['min_samples_leaf'], \n",
    "                                       min_samples_split = best['min_samples_split'], \n",
    "                                       n_estimators = est[best['n_estimators']]).fit(x_train,y_train)\n",
    "rf_ho.fit(x_train, y_train)\n",
    "predictions=rf_ho.predict(x_test)\n",
    "print(accuracy_score(y_test,predictions))"
   ]
  },
  {
   "cell_type": "code",
   "execution_count": null,
   "metadata": {},
   "outputs": [],
   "source": []
  }
 ],
 "metadata": {
  "kernelspec": {
   "display_name": "Python 3",
   "language": "python",
   "name": "python3"
  },
  "language_info": {
   "codemirror_mode": {
    "name": "ipython",
    "version": 3
   },
   "file_extension": ".py",
   "mimetype": "text/x-python",
   "name": "python",
   "nbconvert_exporter": "python",
   "pygments_lexer": "ipython3",
   "version": "3.8.3"
  }
 },
 "nbformat": 4,
 "nbformat_minor": 2
}
